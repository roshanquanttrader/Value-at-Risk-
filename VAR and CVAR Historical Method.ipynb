{
 "cells": [
  {
   "cell_type": "code",
   "execution_count": 1,
   "id": "b78a0f0e",
   "metadata": {},
   "outputs": [],
   "source": [
    "import datetime\n",
    "\n",
    "import numpy as np\n",
    "import pandas_datareader.data as web\n",
    "import seaborn as sns\n",
    "from IPython.display import VimeoVideo\n",
    "from scipy import stats"
   ]
  },
  {
   "cell_type": "code",
   "execution_count": 2,
   "id": "0990f472",
   "metadata": {},
   "outputs": [],
   "source": [
    "start = datetime.date(2020, 1, 1)\n",
    "end = datetime.date(2022, 6, 15)\n",
    "# end = datetime.date.today()\n",
    "prices = web.DataReader([\"BTC-USD\"], \"yahoo\", start, end)[\"Adj Close\"]\n",
    "returns = prices.pct_change()\n",
    "returns = returns.rename(columns={\"BTC-USD\": \"Bitcoin\"})\n",
    "returns = returns.dropna()"
   ]
  },
  {
   "cell_type": "code",
   "execution_count": 3,
   "id": "33b1b0f7",
   "metadata": {},
   "outputs": [
    {
     "data": {
      "text/html": [
       "<div>\n",
       "<style scoped>\n",
       "    .dataframe tbody tr th:only-of-type {\n",
       "        vertical-align: middle;\n",
       "    }\n",
       "\n",
       "    .dataframe tbody tr th {\n",
       "        vertical-align: top;\n",
       "    }\n",
       "\n",
       "    .dataframe thead th {\n",
       "        text-align: right;\n",
       "    }\n",
       "</style>\n",
       "<table border=\"1\" class=\"dataframe\">\n",
       "  <thead>\n",
       "    <tr style=\"text-align: right;\">\n",
       "      <th>Symbols</th>\n",
       "      <th>Bitcoin</th>\n",
       "    </tr>\n",
       "    <tr>\n",
       "      <th>Date</th>\n",
       "      <th></th>\n",
       "    </tr>\n",
       "  </thead>\n",
       "  <tbody>\n",
       "    <tr>\n",
       "      <th>2020-01-01</th>\n",
       "      <td>0.000914</td>\n",
       "    </tr>\n",
       "    <tr>\n",
       "      <th>2020-01-02</th>\n",
       "      <td>-0.029819</td>\n",
       "    </tr>\n",
       "    <tr>\n",
       "      <th>2020-01-03</th>\n",
       "      <td>0.051452</td>\n",
       "    </tr>\n",
       "    <tr>\n",
       "      <th>2020-01-04</th>\n",
       "      <td>0.008955</td>\n",
       "    </tr>\n",
       "    <tr>\n",
       "      <th>2020-01-05</th>\n",
       "      <td>0.000089</td>\n",
       "    </tr>\n",
       "  </tbody>\n",
       "</table>\n",
       "</div>"
      ],
      "text/plain": [
       "Symbols      Bitcoin\n",
       "Date                \n",
       "2020-01-01  0.000914\n",
       "2020-01-02 -0.029819\n",
       "2020-01-03  0.051452\n",
       "2020-01-04  0.008955\n",
       "2020-01-05  0.000089"
      ]
     },
     "execution_count": 3,
     "metadata": {},
     "output_type": "execute_result"
    }
   ],
   "source": [
    "returns.head()"
   ]
  },
  {
   "cell_type": "code",
   "execution_count": 4,
   "id": "464d98d1",
   "metadata": {},
   "outputs": [
    {
     "data": {
      "text/plain": [
       "<AxesSubplot:ylabel='Count'>"
      ]
     },
     "execution_count": 4,
     "metadata": {},
     "output_type": "execute_result"
    },
    {
     "data": {
      "image/png": "[encoded data removed]",
      "text/plain": [
       "<Figure size 432x288 with 1 Axes>"
      ]
     },
     "metadata": {
      "needs_background": "light"
     },
     "output_type": "display_data"
    }
   ],
   "source": [
    "sns.histplot(data=returns)"
   ]
  },
  {
   "cell_type": "code",
   "execution_count": 5,
   "id": "dee903cf",
   "metadata": {},
   "outputs": [],
   "source": [
    "def getHistoricalVar(returns, confidenceLevel):\n",
    "    var = 100 * np.percentile(returns, 100 - confidenceLevel)\n",
    "    print(\n",
    "        \"With %.2f%% percent confidence, we can say the most our portfolio will lose in a day is %.3f%% using historical VaR\"\n",
    "        % (confidenceLevel, var)\n",
    "    )"
   ]
  },
  {
   "cell_type": "code",
   "execution_count": 6,
   "id": "84c6a465",
   "metadata": {},
   "outputs": [
    {
     "name": "stdout",
     "output_type": "stream",
     "text": [
      "With 95.00% percent confidence, we can say the most our portfolio will lose in a day is -5.814% using historical VaR\n"
     ]
    }
   ],
   "source": [
    "getHistoricalVar(returns.Bitcoin, 95)"
   ]
  },
  {
   "cell_type": "code",
   "execution_count": 7,
   "id": "363506aa",
   "metadata": {},
   "outputs": [
    {
     "name": "stdout",
     "output_type": "stream",
     "text": [
      "With 99.00% percent confidence, we can say the most our portfolio will lose in a day is -10.245% using historical VaR\n"
     ]
    }
   ],
   "source": [
    "getHistoricalVar(returns.Bitcoin, 99)"
   ]
  },
  {
   "cell_type": "markdown",
   "id": "cd25cec6",
   "metadata": {},
   "source": [
    "# Conditional Value at Risk (known as Expected shortfall, we look at daily returns that are lower than VAR and take average of those values "
   ]
  },
  {
   "cell_type": "code",
   "execution_count": 8,
   "id": "feb87ff3",
   "metadata": {},
   "outputs": [],
   "source": [
    "def getHistoricalCVar(returns, confidenceLevel):\n",
    "    var = np.percentile(returns, 100 - confidenceLevel)\n",
    "    cvar = returns[returns <= var].mean()\n",
    "    print(\n",
    "        \"With %.2f%% percent confidence VaR, our Expected Shortfall is %.2f%% using historical VaR\"\n",
    "        % (confidenceLevel, 100 * cvar)\n",
    "    )"
   ]
  },
  {
   "cell_type": "code",
   "execution_count": 9,
   "id": "eae01045",
   "metadata": {},
   "outputs": [
    {
     "name": "stdout",
     "output_type": "stream",
     "text": [
      "With 95.00% percent confidence VaR, our Expected Shortfall is -8.84% using historical VaR\n"
     ]
    }
   ],
   "source": [
    "getHistoricalCVar(returns.Bitcoin, 95)"
   ]
  },
  {
   "cell_type": "markdown",
   "id": "1a7b0d50",
   "metadata": {},
   "source": [
    "compare the Bitcoin results to a bond index, BLV."
   ]
  },
  {
   "cell_type": "code",
   "execution_count": 11,
   "id": "fb5749cc",
   "metadata": {},
   "outputs": [],
   "source": [
    "start = datetime.date(2020, 1, 1)\n",
    "end = datetime.date(2022, 6, 15)\n",
    "# end = datetime.date.today()\n",
    "prices = web.DataReader([\"BLV\"], \"yahoo\", start, end)[\"Adj Close\"]\n",
    "returns = prices.pct_change()\n",
    "returns = returns.dropna()"
   ]
  },
  {
   "cell_type": "code",
   "execution_count": 12,
   "id": "5534cf60",
   "metadata": {},
   "outputs": [
    {
     "name": "stdout",
     "output_type": "stream",
     "text": [
      "With 95.00% percent confidence, we can say the most our portfolio will lose in a day is -1.355% using historical VaR\n"
     ]
    }
   ],
   "source": [
    "getHistoricalVar(returns.BLV, 95)"
   ]
  },
  {
   "cell_type": "code",
   "execution_count": 13,
   "id": "264d4238",
   "metadata": {},
   "outputs": [
    {
     "name": "stdout",
     "output_type": "stream",
     "text": [
      "With 95.00% percent confidence VaR, our Expected Shortfall is -2.29% using historical VaR\n"
     ]
    }
   ],
   "source": [
    "getHistoricalCVar(returns.BLV, 95)"
   ]
  },
  {
   "cell_type": "markdown",
   "id": "debc29b7",
   "metadata": {},
   "source": [
    "While Bitcoin's 95% VaR and CVaR over the last five years is about -6% and -9% respectively, the bond index, BLV, has -.93% and -1.5% for the same metrics. This goes to show how much more downside risk an asset like Bitcoin holds when compared to bonds."
   ]
  },
  {
   "cell_type": "code",
   "execution_count": null,
   "id": "ad66aeb5",
   "metadata": {},
   "outputs": [],
   "source": []
  }
 ],
 "metadata": {
  "kernelspec": {
   "display_name": "Python 3 (ipykernel)",
   "language": "python",
   "name": "python3"
  },
  "language_info": {
   "codemirror_mode": {
    "name": "ipython",
    "version": 3
   },
   "file_extension": ".py",
   "mimetype": "text/x-python",
   "name": "python",
   "nbconvert_exporter": "python",
   "pygments_lexer": "ipython3",
   "version": "3.9.12"
  }
 },
 "nbformat": 4,
 "nbformat_minor": 5
}
